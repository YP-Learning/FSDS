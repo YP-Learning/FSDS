{
  "nbformat": 4,
  "nbformat_minor": 0,
  "metadata": {
    "colab": {
      "provenance": [],
      "collapsed_sections": []
    },
    "kernelspec": {
      "name": "python3",
      "display_name": "Python 3"
    },
    "language_info": {
      "name": "python"
    }
  },
  "cells": [
    {
      "cell_type": "markdown",
      "source": [
        "# ASSIGNMENTS - Compulsory\n",
        "Full Stack Data Science Bootcamp 2.0 - iNeuron\n",
        "\n",
        "> Send it before 0000 hrs IST or 12 AM Wednesday\n",
        "\n",
        "## NOTE: Evaluation will be done before next class\n"
      ],
      "metadata": {
        "id": "B6xm5dJHpSDV"
      }
    },
    {
      "cell_type": "markdown",
      "source": [
        "### 1. What is indentation error? Why indentation is important? Give one simple example?"
      ],
      "metadata": {
        "id": "8otLuWAr1wME"
      }
    },
    {
      "cell_type": "markdown",
      "source": [
        "* Indentation means the position (a block of text/code) further from the margin than the main part of the text/code\n",
        "* Indentation error occurs when the position of the block (or line) of code is not proper\n",
        "* In the below example there is no indentation given, so python does not understand which line to run if the condition is `True`, leading to `IndentationError`"
      ],
      "metadata": {
        "id": "NgIqMMmy18WH"
      }
    },
    {
      "cell_type": "code",
      "source": [
        "if True:\n",
        "print(\"No Indentation Given\")"
      ],
      "metadata": {
        "colab": {
          "base_uri": "https://localhost:8080/",
          "height": 130
        },
        "id": "3cfrhrNj1u1Z",
        "outputId": "1567f30b-ba5c-4f6e-afe5-19edcc08c540"
      },
      "execution_count": 1,
      "outputs": [
        {
          "output_type": "error",
          "ename": "IndentationError",
          "evalue": "ignored",
          "traceback": [
            "\u001b[0;36m  File \u001b[0;32m\"<ipython-input-1-e9f7df0b761e>\"\u001b[0;36m, line \u001b[0;32m2\u001b[0m\n\u001b[0;31m    print(\"No Indentation Given\")\u001b[0m\n\u001b[0m        ^\u001b[0m\n\u001b[0;31mIndentationError\u001b[0m\u001b[0;31m:\u001b[0m expected an indented block\n"
          ]
        }
      ]
    },
    {
      "cell_type": "markdown",
      "source": [
        "* It is important as it defines the blocks of code in python, unlike braces `{}` in other languages like C/C++\n",
        "\n",
        "In the below example, the indentation is not proper, again leading to `IndentationError`"
      ],
      "metadata": {
        "id": "Ty9hLASn2rUc"
      }
    },
    {
      "cell_type": "code",
      "source": [
        "if True:\n",
        "    print(\"Proper Indentation\")\n",
        "        print(\"Improper Indentation\")"
      ],
      "metadata": {
        "colab": {
          "base_uri": "https://localhost:8080/",
          "height": 130
        },
        "id": "HkR0Wkkv3abb",
        "outputId": "3ca76ece-debb-4319-a94e-4b13291b1223"
      },
      "execution_count": 2,
      "outputs": [
        {
          "output_type": "error",
          "ename": "IndentationError",
          "evalue": "ignored",
          "traceback": [
            "\u001b[0;36m  File \u001b[0;32m\"<ipython-input-2-e3e9f2fd2def>\"\u001b[0;36m, line \u001b[0;32m3\u001b[0m\n\u001b[0;31m    print(\"Improper Indentation\")\u001b[0m\n\u001b[0m    ^\u001b[0m\n\u001b[0;31mIndentationError\u001b[0m\u001b[0;31m:\u001b[0m unexpected indent\n"
          ]
        }
      ]
    },
    {
      "cell_type": "markdown",
      "source": [
        "With Proper Indentation we are able to achieve expected output from our code"
      ],
      "metadata": {
        "id": "C4CgAgbP3piv"
      }
    },
    {
      "cell_type": "code",
      "source": [
        "if True:\n",
        "    print(\"1. Proper Indentation\")\n",
        "    print(\"2. Expected behaviour\")"
      ],
      "metadata": {
        "colab": {
          "base_uri": "https://localhost:8080/"
        },
        "id": "ym4BbC5Q3ir0",
        "outputId": "140b4d60-7a6a-4918-a87a-da004b1a0093"
      },
      "execution_count": 3,
      "outputs": [
        {
          "output_type": "stream",
          "name": "stdout",
          "text": [
            "1. Proper Indentation\n",
            "2. Expected behaviour\n"
          ]
        }
      ]
    },
    {
      "cell_type": "markdown",
      "source": [
        "### 2. Correct the following code and write the comment where you made the correction?"
      ],
      "metadata": {
        "id": "LnToeKnM3usS"
      }
    },
    {
      "cell_type": "code",
      "source": [
        "class_started = bool(int(input(\"Hey friend, is class started?: [0-False/1-True] \")))  # changes in this line, add str -> int conversion\n",
        "# Converted string '0'/'1' to int 0/1, which can then be converted to bool\n",
        "# which will result as 0 - False, and 1 - True\n",
        "# Converting '0' & '1' to bool directly will always result true, because \n",
        "# while converting str to bool, it only results false when the string is empty\n",
        "\n",
        "if class_started:\n",
        "   print(\"Since class started...\")\n",
        "   print(\"Lets concentrate\")\n",
        "else:\n",
        "   print(\"Since class is not started...\")\n",
        "   print(\"let's revise\")"
      ],
      "metadata": {
        "colab": {
          "base_uri": "https://localhost:8080/"
        },
        "id": "cPGsKl7w3oj1",
        "outputId": "b29fc28a-ecb6-43a2-8387-760f5fa6c273"
      },
      "execution_count": 6,
      "outputs": [
        {
          "output_type": "stream",
          "name": "stdout",
          "text": [
            "Hey friend, is class started?: [0-False/1-True] 0\n",
            "Since class is not started...\n",
            "let's revise\n"
          ]
        }
      ]
    },
    {
      "cell_type": "markdown",
      "source": [
        "### 3. Use if else condition to verify that dataype of `input()` method in python is always string."
      ],
      "metadata": {
        "id": "9t4896uy4dmz"
      }
    },
    {
      "cell_type": "code",
      "source": [
        "response = input(\"Enter something: \")\n",
        "\n",
        "if type(response) is str:\n",
        "    print(\"Input is string\")\n",
        "else:\n",
        "    print(\"Input is not a string\")"
      ],
      "metadata": {
        "colab": {
          "base_uri": "https://localhost:8080/"
        },
        "id": "c9P5NZTJ310E",
        "outputId": "12bd6bfc-614c-4d60-f8b7-ad69278427bb"
      },
      "execution_count": 9,
      "outputs": [
        {
          "output_type": "stream",
          "name": "stdout",
          "text": [
            "Enter something: True\n",
            "Input is string\n"
          ]
        }
      ]
    },
    {
      "cell_type": "markdown",
      "source": [
        "### 4. Take 3 variables and assign integer values to them. Find the largest variable, by only using the if and else conditions."
      ],
      "metadata": {
        "id": "ue_5rUhX5DiM"
      }
    },
    {
      "cell_type": "code",
      "source": [
        "a = int(input(\"Enter 1st number: \"))\n",
        "b = int(input(\"Enter 2nd number: \"))\n",
        "c = int(input(\"Enter 3rd number: \"))\n",
        "\n",
        "if a > b:\n",
        "    if a > c:\n",
        "        print(f\"{a} is largest\")\n",
        "    else:\n",
        "        print(f\"{c} is largest\")\n",
        "else:\n",
        "    if b > c:\n",
        "        print(f\"{b} is largest\")\n",
        "    else:\n",
        "        print(f\"{c} is largest\")\n"
      ],
      "metadata": {
        "colab": {
          "base_uri": "https://localhost:8080/"
        },
        "id": "P_MYUKZg4xvA",
        "outputId": "edc03d72-fef8-42a7-9461-98be7d9f13b1"
      },
      "execution_count": 13,
      "outputs": [
        {
          "output_type": "stream",
          "name": "stdout",
          "text": [
            "Enter 1st number: 3\n",
            "Enter 2nd number: 2\n",
            "Enter 3rd number: 1\n",
            "3 is largest\n"
          ]
        }
      ]
    },
    {
      "cell_type": "markdown",
      "source": [
        "### 5. What would be the solution?\n",
        "\n",
        "1. True\n",
        "2. False\n",
        "\n",
        "```python\n",
        "a = 6\n",
        "b = 10\n",
        "print( not ( not a == 10 or not b == 10) )\n",
        "```\n",
        "\n",
        "Without Running: `False`, as `not a == 10` will be True as `a != 10`, and if one of the condition is `True` or will return `True`, and using not on it will give us `False`"
      ],
      "metadata": {
        "id": "8AwK2KAK52JW"
      }
    },
    {
      "cell_type": "code",
      "source": [
        "a = 6\n",
        "b = 10\n",
        "print( not (not a == 10 or not b == 10 ) )"
      ],
      "metadata": {
        "colab": {
          "base_uri": "https://localhost:8080/"
        },
        "id": "Mxu_ZByd5egI",
        "outputId": "27db3166-4059-479b-b059-0b7d201fdb88"
      },
      "execution_count": 14,
      "outputs": [
        {
          "output_type": "stream",
          "name": "stdout",
          "text": [
            "False\n"
          ]
        }
      ]
    },
    {
      "cell_type": "markdown",
      "source": [
        "### 6. Find the answer as well as find out the reason behind the result? -\n",
        "- case 1:\n",
        "    ```python\n",
        "    A = 5.0\n",
        "    B = 10/2\n",
        "    print(A is B)\n",
        "    ```"
      ],
      "metadata": {
        "id": "WT49Ksn-6n-r"
      }
    },
    {
      "cell_type": "code",
      "source": [
        "A = 5.0\n",
        "B = 10 / 2\n",
        "print(A is B)"
      ],
      "metadata": {
        "colab": {
          "base_uri": "https://localhost:8080/"
        },
        "id": "b3Y2m-Rt6c2W",
        "outputId": "a848baf9-4e18-421e-f720-cedafe23b902"
      },
      "execution_count": 15,
      "outputs": [
        {
          "output_type": "stream",
          "name": "stdout",
          "text": [
            "False\n"
          ]
        }
      ]
    },
    {
      "cell_type": "markdown",
      "source": [
        "The `is` operator checks if both the variables refrence to the same object, here the value is same but the objects are different, so results in `False`\n",
        "\n",
        "- case 2:\n",
        "    ```python\n",
        "    A = 5.0\n",
        "    B = int(10/2)\n",
        "    print(A is B)\n",
        "    ```"
      ],
      "metadata": {
        "id": "Ofl_Ikaf7I5K"
      }
    },
    {
      "cell_type": "code",
      "source": [
        "A = 5.0\n",
        "B = int(10 / 2)\n",
        "print(A is B)"
      ],
      "metadata": {
        "colab": {
          "base_uri": "https://localhost:8080/"
        },
        "id": "pkLyRj8E6ujt",
        "outputId": "c13f3b1a-b3ac-4ee0-b1b3-140554b67e60"
      },
      "execution_count": 16,
      "outputs": [
        {
          "output_type": "stream",
          "name": "stdout",
          "text": [
            "False\n"
          ]
        }
      ]
    },
    {
      "cell_type": "markdown",
      "source": [
        "Same reason as the above, the value is same (still different data types), but different objects, thus `False`\n",
        "\n",
        "- case 3:\n",
        "    ```python\n",
        "    A = 5.0\n",
        "    B = float(10/2)\n",
        "    print(A is B)\n",
        "    ```"
      ],
      "metadata": {
        "id": "i3hJA0Rf7fxC"
      }
    },
    {
      "cell_type": "code",
      "source": [
        "A = 5.0\n",
        "B = float(10 / 2)\n",
        "print(A is B)"
      ],
      "metadata": {
        "colab": {
          "base_uri": "https://localhost:8080/"
        },
        "id": "_oeS5OyP7d8H",
        "outputId": "287147e7-dc88-492b-f0c3-29f6a9e8eda2"
      },
      "execution_count": 17,
      "outputs": [
        {
          "output_type": "stream",
          "name": "stdout",
          "text": [
            "False\n"
          ]
        }
      ]
    },
    {
      "cell_type": "markdown",
      "source": [
        "Again, different objects, so `is` results as `False`"
      ],
      "metadata": {
        "id": "ZzSuyJmP741Q"
      }
    },
    {
      "cell_type": "markdown",
      "source": [
        "### Try to understand the following examples and answer the question based on it - \n",
        "    \n",
        "**Arithmatic Operators**\n",
        "\n",
        "|Operation|Meaning|\n",
        "|:-:|:-:|\n",
        "| **+** |addition|\n",
        "| **-** |subtraction|\n",
        "| **\\*** |multiplication|\n",
        "| **/** |true division|\n",
        "| **//** |integer division|\n",
        "| **%** |the modulo operator|\n",
        "\n",
        "\n",
        "Here `+`, `-`, `*`, `/` are regular arithmatic operators. Lets look at the `//` and `%` operators\n",
        "\n",
        "Usecase or examples - \n",
        "    \n",
        "```python\n",
        "var_a = 5\n",
        "var_b = 25\n",
        "integer_division = var_b // var_a\n",
        "print(f\"integer division: {var_b}/{var_a}={integer_division}\")\n",
        "```\n",
        "\n",
        "OUTPUT: integer division: 25/5=5\n",
        "\n",
        "```python\n",
        "var_a = 3\n",
        "var_b = 25\n",
        "integer_division = var_b // var_a\n",
        "print(f\"integer division: {var_b}/{var_a}={integer_division}\")\n",
        "```\n",
        "\n",
        "OUTPUT: integer division: 25/3=8\n",
        "\n",
        "```python\n",
        "var_a = 5\n",
        "var_b = 25\n",
        "remainder = var_b % var_a\n",
        "print(f\"remainder: {var_b}/{var_a} is {remainder}\")\n",
        "```\n",
        "\n",
        "OUTPUT: remainder: 25/5 is 0\n",
        "\n",
        "```python\n",
        "var_a = 3\n",
        "var_b = 25\n",
        "remainder = var_b % var_a\n",
        "print(f\"remainder: {var_b}/{var_a} is {remainder}\")\n",
        "```\n",
        "\n",
        "OUTPUT: remainder: 25/3 is 1"
      ],
      "metadata": {
        "id": "HdCMBZ3j7_Ta"
      }
    },
    {
      "cell_type": "markdown",
      "source": [
        "### 7. Write a program that asks the user to enter a number. You should print out a message to the user, either “That number is divisible by either 3 or 5”, or “That number is not divisible by either 3 or 5”. Be sure to consider the data type of the input you are taking in from the user. Use a single if/else block to solve this problem."
      ],
      "metadata": {
        "id": "xSTHQJKh8WNy"
      }
    },
    {
      "cell_type": "code",
      "source": [
        "number = int(input(\"Enter a number: \"))\n",
        "\n",
        "if (number % 3 == 0) or (number % 5 == 0):  # check if 3 or 5 perfectly divides the number\n",
        "    print(f\"{number} is divisible by either 3 or 5\")\n",
        "else:\n",
        "    print(f\"{number} is not dibisible by either 3 or 5\")\n"
      ],
      "metadata": {
        "colab": {
          "base_uri": "https://localhost:8080/"
        },
        "id": "hzglhgek733J",
        "outputId": "9aed858c-226b-4313-884f-a2218ff7305e"
      },
      "execution_count": 19,
      "outputs": [
        {
          "output_type": "stream",
          "name": "stdout",
          "text": [
            "Enter a number: 37\n",
            "37 is not dibisible by either 3 or 5\n"
          ]
        }
      ]
    },
    {
      "cell_type": "markdown",
      "source": [
        "### 8. Take user input for length and width. Then calculate the area of rectangle. Also print as per length and width whether its a square of rectangle.\n"
      ],
      "metadata": {
        "id": "Mngy4GQN9G37"
      }
    },
    {
      "cell_type": "code",
      "source": [
        "length = int(input(\"Enter the Length of rectangle: \"))\n",
        "width = int(input(\"Enter the width of rectangle: \"))\n",
        "\n",
        "area = length * width\n",
        "\n",
        "print(f\"Area = {area}\")\n",
        "\n",
        "if length == width:\n",
        "    print(\"The given rectangle is a square\")"
      ],
      "metadata": {
        "colab": {
          "base_uri": "https://localhost:8080/"
        },
        "id": "R3yOAYrt86Ur",
        "outputId": "e94017c1-2307-44c2-b463-2cad8ac77d22"
      },
      "execution_count": 22,
      "outputs": [
        {
          "output_type": "stream",
          "name": "stdout",
          "text": [
            "Enter the Length of rectangle: 10\n",
            "Enter the width of rectangle: 10\n",
            "Area = 100\n",
            "The given rectangle is a square\n"
          ]
        }
      ]
    },
    {
      "cell_type": "markdown",
      "source": [
        "### 9. Take two variable radius_1 and radius_2 and calculate the area of circle_1 and circle_2. Also print which circle has large area. If area is equal then print area is equal.\n"
      ],
      "metadata": {
        "id": "Re67ZHCK9s1V"
      }
    },
    {
      "cell_type": "code",
      "source": [
        "import math\n",
        "\n",
        "radius_1 = int(input(\"Enter radius of Circle 1: \"))\n",
        "radius_2 = int(input(\"Enter radius of Circle 2: \"))\n",
        "\n",
        "ar_1 = math.pi * (radius_1 ** 2)\n",
        "ar_2 = math.pi * (radius_2 ** 2)\n",
        "\n",
        "if ar_1 > ar_2:\n",
        "    print(\"Circle 1 has larger area\")\n",
        "elif ar_2 > ar_1:\n",
        "    print(\"Circle 2 has larger area\")\n",
        "else:\n",
        "    print(\"Both circles have the same area\")"
      ],
      "metadata": {
        "colab": {
          "base_uri": "https://localhost:8080/"
        },
        "id": "HqGjQO139jxw",
        "outputId": "1dab65af-70e8-4ce8-b7f7-b0d06883555b"
      },
      "execution_count": 23,
      "outputs": [
        {
          "output_type": "stream",
          "name": "stdout",
          "text": [
            "Enter radius of Circle 1: 7\n",
            "Enter radius of Circle 2: 6\n",
            "Circle 1 has larger area\n"
          ]
        }
      ]
    },
    {
      "cell_type": "markdown",
      "source": [
        "### 10. Check whether a year is leap year or not. Use nested if...else to solve this problem. A leap year is exactly divisible by 4 except for century years (years ending with 00). The century year is a leap year only if it is perfectly divisible by 400."
      ],
      "metadata": {
        "id": "Ty7nPKnP_dQK"
      }
    },
    {
      "cell_type": "code",
      "source": [
        "year = int(input(\"Enter year: \"))\n",
        "\n",
        "if year % 4 == 0:\n",
        "    if year % 100 == 0:\n",
        "        if year % 400 == 0:\n",
        "            print(\"Leap Year\")\n",
        "        else:\n",
        "            print(\"Not a Leap Year\")\n",
        "    else:\n",
        "        print(\"Leap Year\")\n",
        "else:\n",
        "    print(\"Not a Leap Year\")"
      ],
      "metadata": {
        "colab": {
          "base_uri": "https://localhost:8080/"
        },
        "id": "SbXPuTbP_VFz",
        "outputId": "fab4b9a3-e47e-4d6f-e8cc-7d78c5c01370"
      },
      "execution_count": 24,
      "outputs": [
        {
          "output_type": "stream",
          "name": "stdout",
          "text": [
            "Enter year: 2004\n",
            "Leap Year\n"
          ]
        }
      ]
    },
    {
      "cell_type": "code",
      "source": [],
      "metadata": {
        "id": "DzBECJjJ_4wo"
      },
      "execution_count": 24,
      "outputs": []
    }
  ]
}