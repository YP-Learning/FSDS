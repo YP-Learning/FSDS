{
  "nbformat": 4,
  "nbformat_minor": 0,
  "metadata": {
    "colab": {
      "provenance": [],
      "collapsed_sections": [],
      "include_colab_link": true
    },
    "kernelspec": {
      "name": "python3",
      "display_name": "Python 3"
    },
    "language_info": {
      "name": "python"
    }
  },
  "cells": [
    {
      "cell_type": "markdown",
      "metadata": {
        "id": "view-in-github",
        "colab_type": "text"
      },
      "source": [
        "<a href=\"https://colab.research.google.com/github/yashppawar/FSDS/blob/main/assignments/02-Assignment.ipynb\" target=\"_parent\"><img src=\"https://colab.research.google.com/assets/colab-badge.svg\" alt=\"Open In Colab\"/></a>"
      ]
    },
    {
      "cell_type": "markdown",
      "source": [
        "# ASSIGNMENT - 02 - Compulsory\n",
        "Full Stack Data Science Bootcamp 2.0 - iNeuron\n",
        "## Send it before 0000 hrs IST or 12 AM Wednesday\n",
        "\n",
        "## NOTE: Evaluation will be done before next class.\n",
        "\n",
        "## HOW TO SUBMIT: -\n",
        "Download this notebook, Solve it and upload in the google form given in the mail."
      ],
      "metadata": {
        "id": "cyOfbWCdOjEr"
      }
    },
    {
      "cell_type": "markdown",
      "source": [
        "## Python String Manipulation\n",
        "\n",
        "1. Count the number of times `iNeuron` appears in the string.\n",
        "```python\n",
        "text = \"Welcome to iNeuron, You are a part of FSDS Bootcamp 2 in iNeuron. I hope you are enjoying the course by iNeuron\"\n",
        "```\n"
      ],
      "metadata": {
        "id": "GT4IytkJMNa-"
      }
    },
    {
      "cell_type": "code",
      "source": [
        "text = \"Welcome to iNeuron, You are a part of FSDS Bootcamp 2 in iNeuron. I hope you are enjoying the course by iNeuron\"\n",
        "\n",
        "phrase = \"iNeuron\"\n",
        "# using the str.count() method\n",
        "count = text.count(phrase)\n",
        "\n",
        "print(f\"{phrase} occurs {count} times in the text\")"
      ],
      "metadata": {
        "id": "KwVni9gipNi-",
        "outputId": "50be887e-2e67-4113-9e93-eeef0cda5a35",
        "colab": {
          "base_uri": "https://localhost:8080/"
        }
      },
      "execution_count": 2,
      "outputs": [
        {
          "output_type": "stream",
          "name": "stdout",
          "text": [
            "iNeuron occurs 3 times in the text\n"
          ]
        }
      ]
    },
    {
      "cell_type": "markdown",
      "source": [
        "2. Check if position `5` to `11` ends with the phrase `iNeuron.` in the string \n",
        "```python\n",
        "txt = \"Hello, welcome to FSDS 2.0 at iNeuron.\"\n",
        "```"
      ],
      "metadata": {
        "id": "w0BfEEU_nA2e"
      }
    },
    {
      "cell_type": "code",
      "source": [
        "# get the position 5 to 11 using string slicing\n",
        "# then use the str.endswith() to check if the text ends with given phrase\n",
        "phrase = \"iNeuron.\"\n",
        "\n",
        "txt = \"Hello, welcome to FSDS 2.0 at iNeuron.\"\n",
        "\n",
        "txt[5:11].endswith(phrase)"
      ],
      "metadata": {
        "id": "sYqunOFKnENO",
        "outputId": "28bb51a5-b0ad-4d00-da63-c167ef9f46fe",
        "colab": {
          "base_uri": "https://localhost:8080/"
        }
      },
      "execution_count": 4,
      "outputs": [
        {
          "output_type": "execute_result",
          "data": {
            "text/plain": [
              "False"
            ]
          },
          "metadata": {},
          "execution_count": 4
        }
      ]
    },
    {
      "cell_type": "markdown",
      "source": [
        "3. Write a program that takes your full name as input and displays the abbreviations of the first and middle names except the last name which is displayed as it is. For example, if your name is Sunny Bhaveen Chandra, then the output should be S.B.Chandra."
      ],
      "metadata": {
        "id": "bFfvflw1nqNF"
      }
    },
    {
      "cell_type": "code",
      "source": [
        "name = input(\"Enter full name: \").strip()\n",
        "\n",
        "name_fragments = name.split()\n",
        "shortened_name = ' '.join([n[0] + '.' for n in name_fragments[:-1]] + [name_fragments[-1]])\n",
        "\n",
        "shortened_name"
      ],
      "metadata": {
        "id": "r8cj4USDnp0e",
        "outputId": "82834f52-5148-4ca0-f6ae-b8b636775604",
        "colab": {
          "base_uri": "https://localhost:8080/",
          "height": 53
        }
      },
      "execution_count": 8,
      "outputs": [
        {
          "name": "stdout",
          "output_type": "stream",
          "text": [
            "Enter full name: Sunny Bhaveen Chandra\n"
          ]
        },
        {
          "output_type": "execute_result",
          "data": {
            "text/plain": [
              "'S. B. Chandra'"
            ],
            "application/vnd.google.colaboratory.intrinsic+json": {
              "type": "string"
            }
          },
          "metadata": {},
          "execution_count": 8
        }
      ]
    },
    {
      "cell_type": "markdown",
      "source": [
        "4. Join all items in a list into a string, using a hash(`#`) character as separator:\n",
        "```python\n",
        "LIST = [\"My\", \"name\", \"is\", \"Rishav\", \"Dash\"]\n",
        "```"
      ],
      "metadata": {
        "id": "dNIwvco4ouDF"
      }
    },
    {
      "cell_type": "code",
      "source": [
        "LIST = [\"My\", \"name\", \"is\", \"Rishav\", \"Dash\"]\n",
        "\n",
        "# by using the str.join() method\n",
        "\"#\".join(LIST)"
      ],
      "metadata": {
        "id": "PeeH4aqOotp-",
        "outputId": "c9177040-d35d-42c1-9502-ed4ffea48cda",
        "colab": {
          "base_uri": "https://localhost:8080/",
          "height": 35
        }
      },
      "execution_count": 9,
      "outputs": [
        {
          "output_type": "execute_result",
          "data": {
            "text/plain": [
              "'My#name#is#Rishav#Dash'"
            ],
            "application/vnd.google.colaboratory.intrinsic+json": {
              "type": "string"
            }
          },
          "metadata": {},
          "execution_count": 9
        }
      ]
    },
    {
      "cell_type": "markdown",
      "source": [
        "5. Write example for the following string manipulation function,\n",
        "\n",
        "  ```\n",
        "  - isdecimal()\n",
        "  - islower()\n",
        "  - isupper()\n",
        "  - isalpha()\n",
        "  - isnumeric()\n",
        "\n",
        "  ```"
      ],
      "metadata": {
        "id": "Bl4wPgRMo-7V"
      }
    },
    {
      "cell_type": "code",
      "source": [
        "# isdecimal\n",
        "string = '32'\n",
        "print(string.isdecimal())"
      ],
      "metadata": {
        "id": "MMOlktARpBRe",
        "outputId": "f48a0247-6ad0-4785-b165-49cb29a85a12",
        "colab": {
          "base_uri": "https://localhost:8080/"
        }
      },
      "execution_count": 13,
      "outputs": [
        {
          "output_type": "stream",
          "name": "stdout",
          "text": [
            "True\n"
          ]
        }
      ]
    },
    {
      "cell_type": "code",
      "source": [
        "# islower()\n",
        "upper_string = \"HELLO WORLD\"\n",
        "upper_string.islower()"
      ],
      "metadata": {
        "id": "QoymiO1epfjP",
        "outputId": "35307c3e-c8b0-404f-acb9-c7c5502aef74",
        "colab": {
          "base_uri": "https://localhost:8080/"
        }
      },
      "execution_count": 14,
      "outputs": [
        {
          "output_type": "execute_result",
          "data": {
            "text/plain": [
              "False"
            ]
          },
          "metadata": {},
          "execution_count": 14
        }
      ]
    },
    {
      "cell_type": "code",
      "source": [
        "lower_string = \"hello world\"\n",
        "lower_string.islower()"
      ],
      "metadata": {
        "id": "rYbPtTMjpmOr",
        "outputId": "23dc163f-9df9-497e-a1fa-098e83c2d61f",
        "colab": {
          "base_uri": "https://localhost:8080/"
        }
      },
      "execution_count": 15,
      "outputs": [
        {
          "output_type": "execute_result",
          "data": {
            "text/plain": [
              "True"
            ]
          },
          "metadata": {},
          "execution_count": 15
        }
      ]
    },
    {
      "cell_type": "code",
      "source": [
        "# isupper()\n",
        "lower_string.isupper()"
      ],
      "metadata": {
        "id": "zKIpx-HwpvWU",
        "outputId": "be2039b4-61e3-4283-f7b6-2f656677440f",
        "colab": {
          "base_uri": "https://localhost:8080/"
        }
      },
      "execution_count": 16,
      "outputs": [
        {
          "output_type": "execute_result",
          "data": {
            "text/plain": [
              "False"
            ]
          },
          "metadata": {},
          "execution_count": 16
        }
      ]
    },
    {
      "cell_type": "code",
      "source": [
        "upper_string.isupper()"
      ],
      "metadata": {
        "id": "AHfnJVxypyzP",
        "outputId": "30682dd9-8c87-468c-8a2e-8448ad408085",
        "colab": {
          "base_uri": "https://localhost:8080/"
        }
      },
      "execution_count": 17,
      "outputs": [
        {
          "output_type": "execute_result",
          "data": {
            "text/plain": [
              "True"
            ]
          },
          "metadata": {},
          "execution_count": 17
        }
      ]
    },
    {
      "cell_type": "code",
      "source": [
        "# isalpha()\n",
        "upper_string.isalpha()"
      ],
      "metadata": {
        "id": "SxMR3Y-gp2i1",
        "outputId": "94c5d703-efa3-40dc-8bb3-0a04200a20cb",
        "colab": {
          "base_uri": "https://localhost:8080/"
        }
      },
      "execution_count": 18,
      "outputs": [
        {
          "output_type": "execute_result",
          "data": {
            "text/plain": [
              "False"
            ]
          },
          "metadata": {},
          "execution_count": 18
        }
      ]
    },
    {
      "cell_type": "code",
      "source": [
        "alpha_string = \"hellothisisalpha\"\n",
        "alpha_string.isalpha()"
      ],
      "metadata": {
        "id": "Emw5MS6aqAm8",
        "outputId": "c558d67e-ebf5-4dfe-c6fb-7d599b96ca20",
        "colab": {
          "base_uri": "https://localhost:8080/"
        }
      },
      "execution_count": 21,
      "outputs": [
        {
          "output_type": "execute_result",
          "data": {
            "text/plain": [
              "True"
            ]
          },
          "metadata": {},
          "execution_count": 21
        }
      ]
    },
    {
      "cell_type": "code",
      "source": [
        "# isnumeric()\n",
        "alpha_string.isnumeric()"
      ],
      "metadata": {
        "id": "FmFweNZdqI_y",
        "outputId": "f07bb439-65f5-4a16-8444-46cd7fe4718f",
        "colab": {
          "base_uri": "https://localhost:8080/"
        }
      },
      "execution_count": 23,
      "outputs": [
        {
          "output_type": "execute_result",
          "data": {
            "text/plain": [
              "False"
            ]
          },
          "metadata": {},
          "execution_count": 23
        }
      ]
    },
    {
      "cell_type": "code",
      "source": [
        "numeric_string = \"1234567\"\n",
        "numeric_string.isnumeric()"
      ],
      "metadata": {
        "id": "2fshusGcqU6V",
        "outputId": "4a6bd7b1-43c8-4bef-c27e-106263e3f951",
        "colab": {
          "base_uri": "https://localhost:8080/"
        }
      },
      "execution_count": 24,
      "outputs": [
        {
          "output_type": "execute_result",
          "data": {
            "text/plain": [
              "True"
            ]
          },
          "metadata": {},
          "execution_count": 24
        }
      ]
    },
    {
      "cell_type": "markdown",
      "source": [
        "\n",
        "6. Indian PAN card format follows the following formats - \n",
        "    - `AYEPC7894X`\n",
        "    - `ABCDE9999Y`\n",
        "  Take user input for PAN_CARD and validate as per the above example.\n"
      ],
      "metadata": {
        "id": "Okaf9kmxm13O"
      }
    },
    {
      "cell_type": "code",
      "source": [
        "pan_card_num = input(\"Enter Pan Card Number: \")\n",
        "\n",
        "print(\"Valid\" if pan_card_num.isalnum() else \"Not Valid\")"
      ],
      "metadata": {
        "id": "UXDGWClppCHF",
        "outputId": "bb083d0e-2c7d-4541-ac3f-db2633ad34dc",
        "colab": {
          "base_uri": "https://localhost:8080/"
        }
      },
      "execution_count": 25,
      "outputs": [
        {
          "output_type": "stream",
          "name": "stdout",
          "text": [
            "Enter Pan Card Number: AYEPC7894X\n",
            "Valid\n"
          ]
        }
      ]
    },
    {
      "cell_type": "markdown",
      "source": [
        "# Thank You\n",
        "Completed on: 9th October 2022"
      ],
      "metadata": {
        "id": "jSSVodYUq1-W"
      }
    }
  ]
}