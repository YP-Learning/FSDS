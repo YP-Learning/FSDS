{
  "nbformat": 4,
  "nbformat_minor": 0,
  "metadata": {
    "colab": {
      "provenance": [],
      "collapsed_sections": [],
      "authorship_tag": "ABX9TyNqOyW6Cq0HdhLsFrm+ULQY",
      "include_colab_link": true
    },
    "kernelspec": {
      "name": "python3",
      "display_name": "Python 3"
    },
    "language_info": {
      "name": "python"
    }
  },
  "cells": [
    {
      "cell_type": "markdown",
      "metadata": {
        "id": "view-in-github",
        "colab_type": "text"
      },
      "source": [
        "<a href=\"https://colab.research.google.com/github/yashppawar/FSDS/blob/main/DashboardAssignments/ProgrammingAssignments/ProgrammingAssignment04.ipynb\" target=\"_parent\"><img src=\"https://colab.research.google.com/assets/colab-badge.svg\" alt=\"Open In Colab\"/></a>"
      ]
    },
    {
      "cell_type": "markdown",
      "source": [
        "# | Programming Assignment - 04\n",
        "Full Stack Data Science Bootcamp 2.0 - iNeuron\n",
        "\n",
        "## 1. Write a Python Program to Find the Factorial of a Number\n",
        "\n",
        "The symbol \"!\" can be used to denote a factorial. Therefore, \"n factorial\" is denoted by the number n and is the sum of the first n natural integers!\n",
        "\n",
        "`4!` = 4 * 3 * 2 * 1 = 4 * 3!"
      ],
      "metadata": {
        "id": "eYGnB0hJwCbD"
      }
    },
    {
      "cell_type": "code",
      "execution_count": 2,
      "metadata": {
        "colab": {
          "base_uri": "https://localhost:8080/"
        },
        "id": "unckV7kiu-qi",
        "outputId": "b8b7dcb8-4dca-4e9e-be7e-5d7b2ba3d3df"
      },
      "outputs": [
        {
          "output_type": "stream",
          "name": "stdout",
          "text": [
            "Enter n: 5\n",
            "5! = 120\n"
          ]
        }
      ],
      "source": [
        "n = int(input(\"Enter n: \"))\n",
        "\n",
        "fact = 1\n",
        "\n",
        "for i in range(1, n + 1):\n",
        "    fact *= i\n",
        "\n",
        "print(f\"{n}! = {fact}\")"
      ]
    },
    {
      "cell_type": "markdown",
      "source": [
        "## 2. Write a Python Program to Display the multiplication Table\n",
        "\n"
      ],
      "metadata": {
        "id": "1sh8Zjzmw1fC"
      }
    },
    {
      "cell_type": "code",
      "source": [
        "num = int(input(\"Enter the num of which multiplication table is to be printed: \"))\n",
        "\n",
        "for i in range(1, 11):\n",
        "    print(f\"{num} x {i} = {num * i}\")"
      ],
      "metadata": {
        "colab": {
          "base_uri": "https://localhost:8080/"
        },
        "id": "5BMJ7iU_w0Q5",
        "outputId": "0e1d6731-af19-4306-b8ac-d43425b09549"
      },
      "execution_count": 4,
      "outputs": [
        {
          "output_type": "stream",
          "name": "stdout",
          "text": [
            "Enter the num of which multiplication table is to be printed: 17\n",
            "17 x 1 = 17\n",
            "17 x 2 = 34\n",
            "17 x 3 = 51\n",
            "17 x 4 = 68\n",
            "17 x 5 = 85\n",
            "17 x 6 = 102\n",
            "17 x 7 = 119\n",
            "17 x 8 = 136\n",
            "17 x 9 = 153\n",
            "17 x 10 = 170\n"
          ]
        }
      ]
    },
    {
      "cell_type": "markdown",
      "source": [
        "## 3. Write a Python Program to Print the Fibonacci sequence\n",
        "\n",
        "fibonacci sequence is formed by the sum of previous 2 numbers in the sequence, it starts with 0, 1\n",
        "\n"
      ],
      "metadata": {
        "id": "Nk_mM9taxba_"
      }
    },
    {
      "cell_type": "code",
      "source": [
        "n = int(input(\"Enter n: \"))\n",
        "\n",
        "a, b = 0, 1\n",
        "\n",
        "print(a, b, end=\" \")\n",
        "\n",
        "for i in range(n - 1):\n",
        "    c = a + b\n",
        "    print(c, end=\" \")\n",
        "    a = b\n",
        "    b = c"
      ],
      "metadata": {
        "colab": {
          "base_uri": "https://localhost:8080/"
        },
        "id": "TriafOhUxarm",
        "outputId": "9f9b62da-e222-4b4b-b367-11c48457028a"
      },
      "execution_count": 7,
      "outputs": [
        {
          "output_type": "stream",
          "name": "stdout",
          "text": [
            "Enter n: 15\n",
            "0 1 1 2 3 5 8 13 21 34 55 89 144 233 377 610 "
          ]
        }
      ]
    },
    {
      "cell_type": "markdown",
      "source": [
        "# 4. Write a Python Program to Check Armstrong Number\n",
        "\n",
        "An Armstrong number is a number that is the sum of its own digits each raised to the power of the number of digits."
      ],
      "metadata": {
        "id": "z-0DyDpXykTV"
      }
    },
    {
      "cell_type": "code",
      "source": [
        "number = int(input(\"Enter a number: \").strip())\n",
        "\n",
        "num_digits = len(str(number))\n",
        "original = number\n",
        "arm = 0\n",
        "\n",
        "while number > 0:\n",
        "    arm += (number % 10) ** num_digits\n",
        "    number = number // 10 \n",
        "\n",
        "print(\"Armstrong Number\" if (arm == original) else \"Not Armstrong Number\")"
      ],
      "metadata": {
        "colab": {
          "base_uri": "https://localhost:8080/"
        },
        "id": "9rFUmBkzxQI4",
        "outputId": "f437ae83-19f4-4995-e34e-c65640807b78"
      },
      "execution_count": 8,
      "outputs": [
        {
          "output_type": "stream",
          "name": "stdout",
          "text": [
            "Enter a number: 153\n",
            "Armstrong Number\n"
          ]
        }
      ]
    },
    {
      "cell_type": "code",
      "source": [
        "number = int(input(\"Enter a number: \").strip())\n",
        "\n",
        "num_digits = len(str(number))\n",
        "original = number\n",
        "arm = 0\n",
        "\n",
        "while number > 0:\n",
        "    arm += (number % 10) ** num_digits\n",
        "    number = number // 10 \n",
        "\n",
        "print(\"Armstrong Number\" if (arm == original) else \"Not Armstrong Number\")"
      ],
      "metadata": {
        "colab": {
          "base_uri": "https://localhost:8080/"
        },
        "id": "cwouwM_d10MC",
        "outputId": "460bef0c-6330-48ce-b2f5-3c0431f62f77"
      },
      "execution_count": 9,
      "outputs": [
        {
          "output_type": "stream",
          "name": "stdout",
          "text": [
            "Enter a number: 123\n",
            "Not Armstrong Number\n"
          ]
        }
      ]
    },
    {
      "cell_type": "markdown",
      "source": [
        "## 5. Write a Python Program to Find Armstrong Number in an Interval\n",
        "\n",
        "this can be achieved by building on the above code for checking for armstrong number"
      ],
      "metadata": {
        "id": "tzZ7cJyv19Ky"
      }
    },
    {
      "cell_type": "code",
      "source": [
        "interval_begin = int(input(\"Enter begining of interval: \"))\n",
        "interval_end = int(input(\"Enter ending of interval: \"))\n",
        "\n",
        "for number in range(interval_begin, interval_end + 1):\n",
        "    original = number\n",
        "    arm = 0\n",
        "\n",
        "    while number > 0:\n",
        "        arm += (number % 10) ** num_digits\n",
        "        number = number // 10 \n",
        "\n",
        "    if (arm == original):\n",
        "        print(original)"
      ],
      "metadata": {
        "colab": {
          "base_uri": "https://localhost:8080/"
        },
        "id": "g6Ok9jxs13M8",
        "outputId": "c77aad21-f9e3-4ad9-e305-ac19d6f2456e"
      },
      "execution_count": 12,
      "outputs": [
        {
          "output_type": "stream",
          "name": "stdout",
          "text": [
            "Enter begining of interval: 2\n",
            "Enter ending of interval: 789\n",
            "153\n",
            "370\n",
            "371\n",
            "407\n"
          ]
        }
      ]
    },
    {
      "cell_type": "markdown",
      "source": [
        "## 6. Write a Python Program to Find the Sum of Natural Numbers\n"
      ],
      "metadata": {
        "id": "6D2_IgSy2uOY"
      }
    },
    {
      "cell_type": "code",
      "source": [
        "n = int(input(\"Enter n: \"))\n",
        "\n",
        "sum = 0\n",
        "for i in range(n + 1):\n",
        "    sum += i\n",
        "\n",
        "print(f\"Sum of natural numbers till {n} is {sum}\")"
      ],
      "metadata": {
        "colab": {
          "base_uri": "https://localhost:8080/"
        },
        "id": "p-k-nkks2tOE",
        "outputId": "a332d1b3-2ed7-4c99-f53e-4e5a85f655d4"
      },
      "execution_count": 13,
      "outputs": [
        {
          "output_type": "stream",
          "name": "stdout",
          "text": [
            "Enter n: 100\n",
            "Sum of natural numbers till 100 is 5050\n"
          ]
        }
      ]
    },
    {
      "cell_type": "markdown",
      "source": [
        "# Thank You\n",
        "\n",
        "completed on: 9th October 2022"
      ],
      "metadata": {
        "id": "QPhy3YCd2cq5"
      }
    }
  ]
}
