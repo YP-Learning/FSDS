{
  "nbformat": 4,
  "nbformat_minor": 0,
  "metadata": {
    "colab": {
      "provenance": [],
      "authorship_tag": "ABX9TyNUNib/PvRt09EZhcR7R5LA",
      "include_colab_link": true
    },
    "kernelspec": {
      "name": "python3",
      "display_name": "Python 3"
    },
    "language_info": {
      "name": "python"
    }
  },
  "cells": [
    {
      "cell_type": "markdown",
      "metadata": {
        "id": "view-in-github",
        "colab_type": "text"
      },
      "source": [
        "<a href=\"https://colab.research.google.com/github/yashppawar/FSDS/blob/main/DashboardAssignments/ProgrammingAssignments/ProgrammingAssignment02.ipynb\" target=\"_parent\"><img src=\"https://colab.research.google.com/assets/colab-badge.svg\" alt=\"Open In Colab\"/></a>"
      ]
    },
    {
      "cell_type": "markdown",
      "source": [
        "# | Programming Assignment - 02\n",
        "Full Stack Data Science Bootcamp 2.0 - iNeuron\n",
        "\n",
        "## 1. Write a Python program to convert kilometers to miles\n",
        "\n",
        "$$1  km = 1.60934 miles$$\n",
        "$$\\implies 1 mile = \\frac 1 {1.60934} km$$\n",
        "\n"
      ],
      "metadata": {
        "id": "BXrPTd9fJVsr"
      }
    },
    {
      "cell_type": "code",
      "execution_count": 1,
      "metadata": {
        "colab": {
          "base_uri": "https://localhost:8080/"
        },
        "id": "vWCh4UwDJQl2",
        "outputId": "3212263a-086f-4893-f211-b591532f0bbc"
      },
      "outputs": [
        {
          "output_type": "stream",
          "name": "stdout",
          "text": [
            "Enter kilometers: 1024\n",
            "1024.000 kms = 636.286 miles\n"
          ]
        }
      ],
      "source": [
        "# kms_to_miles.py\n",
        "kms = float(input(\"Enter kilometers: \"))\n",
        "miles = kms / 1.60934\n",
        "\n",
        "print(f\"{kms:.3f} kms = {miles:.3f} miles\")  # display rounded output"
      ]
    },
    {
      "cell_type": "markdown",
      "source": [
        "## 2. Write a Python program to convert Celsius to Fahrenheit\n",
        "\n",
        "$$ ° F = \\frac 9 5 \\cdot ° C + 32 $$"
      ],
      "metadata": {
        "id": "zV4PsoV5Lf6B"
      }
    },
    {
      "cell_type": "code",
      "source": [
        "# celsius_to_fahrenheit.py\n",
        "celsius = float(input(\"Enter temperature in Celsius: \"))\n",
        "\n",
        "fahrenheit = (9/5) * celsius + 32\n",
        "print(f\"{celsius:.1f} °C = {fahrenheit:.1f} °F\")"
      ],
      "metadata": {
        "colab": {
          "base_uri": "https://localhost:8080/"
        },
        "id": "yXKgu0lNLfnI",
        "outputId": "e09b8242-8f6d-40cd-e194-83a643d6f4d9"
      },
      "execution_count": 2,
      "outputs": [
        {
          "output_type": "stream",
          "name": "stdout",
          "text": [
            "Enter temperature in Celsius: 35\n",
            "35.0 °C = 95.0 °F\n"
          ]
        }
      ]
    },
    {
      "cell_type": "markdown",
      "source": [
        "## 3. Write a Python program to display calendar\n",
        "\n",
        "To display the calander we can use a module from the standard library, `calendar`"
      ],
      "metadata": {
        "id": "Dg-KkjgTNDGA"
      }
    },
    {
      "cell_type": "code",
      "source": [
        "import calendar"
      ],
      "metadata": {
        "id": "ji47Tj17NQW4"
      },
      "execution_count": 3,
      "outputs": []
    },
    {
      "cell_type": "markdown",
      "source": [
        "We can use multiple functions from the `calender` module\n",
        "- month https://docs.python.org/3/library/calendar.html#calendar.month\n",
        "- Print Year https://docs.python.org/3/library/calendar.html#calendar.TextCalendar.pryear\n",
        "\n",
        "we will print the calander for the whole year"
      ],
      "metadata": {
        "id": "Xeo69fQjOSqy"
      }
    },
    {
      "cell_type": "code",
      "source": [
        "year = int(input(\"Enter Year: \"))\n",
        "\n",
        "tc = calendar.TextCalendar()\n",
        "tc.pryear(year)"
      ],
      "metadata": {
        "colab": {
          "base_uri": "https://localhost:8080/"
        },
        "id": "6ORlix9MK3xL",
        "outputId": "5ea2e979-a83b-43e6-d6df-25df401d381f"
      },
      "execution_count": 4,
      "outputs": [
        {
          "output_type": "stream",
          "name": "stdout",
          "text": [
            "Enter Year: 2022\n",
            "                                  2022\n",
            "\n",
            "      January                   February                   March\n",
            "Mo Tu We Th Fr Sa Su      Mo Tu We Th Fr Sa Su      Mo Tu We Th Fr Sa Su\n",
            "                1  2          1  2  3  4  5  6          1  2  3  4  5  6\n",
            " 3  4  5  6  7  8  9       7  8  9 10 11 12 13       7  8  9 10 11 12 13\n",
            "10 11 12 13 14 15 16      14 15 16 17 18 19 20      14 15 16 17 18 19 20\n",
            "17 18 19 20 21 22 23      21 22 23 24 25 26 27      21 22 23 24 25 26 27\n",
            "24 25 26 27 28 29 30      28                        28 29 30 31\n",
            "31\n",
            "\n",
            "       April                      May                       June\n",
            "Mo Tu We Th Fr Sa Su      Mo Tu We Th Fr Sa Su      Mo Tu We Th Fr Sa Su\n",
            "             1  2  3                         1             1  2  3  4  5\n",
            " 4  5  6  7  8  9 10       2  3  4  5  6  7  8       6  7  8  9 10 11 12\n",
            "11 12 13 14 15 16 17       9 10 11 12 13 14 15      13 14 15 16 17 18 19\n",
            "18 19 20 21 22 23 24      16 17 18 19 20 21 22      20 21 22 23 24 25 26\n",
            "25 26 27 28 29 30         23 24 25 26 27 28 29      27 28 29 30\n",
            "                          30 31\n",
            "\n",
            "        July                     August                  September\n",
            "Mo Tu We Th Fr Sa Su      Mo Tu We Th Fr Sa Su      Mo Tu We Th Fr Sa Su\n",
            "             1  2  3       1  2  3  4  5  6  7                1  2  3  4\n",
            " 4  5  6  7  8  9 10       8  9 10 11 12 13 14       5  6  7  8  9 10 11\n",
            "11 12 13 14 15 16 17      15 16 17 18 19 20 21      12 13 14 15 16 17 18\n",
            "18 19 20 21 22 23 24      22 23 24 25 26 27 28      19 20 21 22 23 24 25\n",
            "25 26 27 28 29 30 31      29 30 31                  26 27 28 29 30\n",
            "\n",
            "      October                   November                  December\n",
            "Mo Tu We Th Fr Sa Su      Mo Tu We Th Fr Sa Su      Mo Tu We Th Fr Sa Su\n",
            "                1  2          1  2  3  4  5  6                1  2  3  4\n",
            " 3  4  5  6  7  8  9       7  8  9 10 11 12 13       5  6  7  8  9 10 11\n",
            "10 11 12 13 14 15 16      14 15 16 17 18 19 20      12 13 14 15 16 17 18\n",
            "17 18 19 20 21 22 23      21 22 23 24 25 26 27      19 20 21 22 23 24 25\n",
            "24 25 26 27 28 29 30      28 29 30                  26 27 28 29 30 31\n",
            "31\n"
          ]
        }
      ]
    },
    {
      "cell_type": "markdown",
      "source": [
        "## 4. Write a Python program to solve quadratic equation\n",
        "\n",
        "Quadratic Equations can be solved using Quadratic formulas\n",
        "\n",
        "$x = \\frac{-b\\pm\\surd{(b^2-4ac)}}{2a}$\n"
      ],
      "metadata": {
        "id": "7ikCj4OySg2A"
      }
    },
    {
      "cell_type": "code",
      "source": [
        "import math\n",
        "\n",
        "print(\"ax^2 + bx + c\")\n",
        "a = int(input(\"Enter a: \"))\n",
        "b = int(input(\"Enter b: \"))\n",
        "c = int(input(\"Enter c: \"))\n",
        "\n",
        "discriminant = b**2 - (4 * a * c)\n",
        "\n",
        "if discriminant < 0:\n",
        "    print(\"No Real Roots\")\n",
        "else:\n",
        "    root = (-b + math.sqrt( discriminant)) / (2 * a)\n",
        "    print(f\"Root = {root}\")\n",
        "    if discriminant > 0:\n",
        "        root = (-b - math.sqrt(discriminant)) / (2 * a)\n",
        "        print(f\"Root = {root}\")\n"
      ],
      "metadata": {
        "colab": {
          "base_uri": "https://localhost:8080/"
        },
        "id": "5zitGbCnPUYx",
        "outputId": "01684ea5-c485-44f1-ceb5-898e73daf72a"
      },
      "execution_count": 8,
      "outputs": [
        {
          "output_type": "stream",
          "name": "stdout",
          "text": [
            "ax^2 + bx + c\n",
            "Enter a: 1\n",
            "Enter b: 2\n",
            "Enter c: 1\n",
            "Root = -1.0\n"
          ]
        }
      ]
    },
    {
      "cell_type": "markdown",
      "source": [
        "## 5. Write a Python program to swap two variables without temp variable\n",
        "\n",
        "Data in variables can be swapped using 2 ways\n",
        "- Using temp variable\n",
        "- using multiple assignment/tuple unpacking\n"
      ],
      "metadata": {
        "id": "JXHDaVOgbb-3"
      }
    },
    {
      "cell_type": "code",
      "source": [
        "# Using temp variable\n",
        "a = \"value\"\n",
        "b = \"another value\"\n",
        "\n",
        "print(f\"a = {a}, b = {b}\")\n",
        "temp = a\n",
        "a = b\n",
        "b = temp\n",
        "print(f\"a = {a}, b = {b}\")"
      ],
      "metadata": {
        "colab": {
          "base_uri": "https://localhost:8080/"
        },
        "id": "HbrfckypZ8tJ",
        "outputId": "d5fc7c64-07d2-4de5-f20c-262aa31912ea"
      },
      "execution_count": 9,
      "outputs": [
        {
          "output_type": "stream",
          "name": "stdout",
          "text": [
            "a = value, b = another value\n",
            "a = another value, b = value\n"
          ]
        }
      ]
    },
    {
      "cell_type": "code",
      "source": [
        "# Using multiple assignment\n",
        "a = \"value\"\n",
        "b = \"another value\"\n",
        "\n",
        "print(f\"a = {a}, b = {b}\")\n",
        "a, b = b, a\n",
        "print(f\"a = {a}, b = {b}\")"
      ],
      "metadata": {
        "colab": {
          "base_uri": "https://localhost:8080/"
        },
        "id": "rq1Xwy_McWb1",
        "outputId": "37a06a80-7e59-487b-df5d-451c32e72033"
      },
      "execution_count": 10,
      "outputs": [
        {
          "output_type": "stream",
          "name": "stdout",
          "text": [
            "a = value, b = another value\n",
            "a = another value, b = value\n"
          ]
        }
      ]
    },
    {
      "cell_type": "markdown",
      "source": [
        "# Thank you\n",
        "Completed on : 8th October 2022"
      ],
      "metadata": {
        "id": "j-7Wvxp9ce2D"
      }
    }
  ]
}