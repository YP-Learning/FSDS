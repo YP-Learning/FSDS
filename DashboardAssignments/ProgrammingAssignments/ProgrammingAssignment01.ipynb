{
  "nbformat": 4,
  "nbformat_minor": 0,
  "metadata": {
    "colab": {
      "provenance": [],
      "collapsed_sections": [],
      "authorship_tag": "ABX9TyO4vokWvIvFwqSC6tdj/YWq",
      "include_colab_link": true
    },
    "kernelspec": {
      "name": "python3",
      "display_name": "Python 3"
    },
    "language_info": {
      "name": "python"
    }
  },
  "cells": [
    {
      "cell_type": "markdown",
      "metadata": {
        "id": "view-in-github",
        "colab_type": "text"
      },
      "source": [
        "<a href=\"https://colab.research.google.com/github/yashppawar/FSDS/blob/main/DashboardAssignments/ProgrammingAssignments/ProgrammingAssignment01.ipynb\" target=\"_parent\"><img src=\"https://colab.research.google.com/assets/colab-badge.svg\" alt=\"Open In Colab\"/></a>"
      ]
    },
    {
      "cell_type": "markdown",
      "source": [
        "# | Programming Assignment - 01\n",
        "\n",
        "Full Stack Data Science Bootcamp 2.0 - iNeuron\n",
        "\n",
        "## 1. Write a Python program to print &quot;Hello Python&quot;?\n"
      ],
      "metadata": {
        "id": "SRcwzCtnCIRw"
      }
    },
    {
      "cell_type": "code",
      "execution_count": 1,
      "metadata": {
        "colab": {
          "base_uri": "https://localhost:8080/"
        },
        "id": "nWYJY0V_BRcI",
        "outputId": "1c0fb44a-c8a1-4ed4-f931-c1a140141e67"
      },
      "outputs": [
        {
          "output_type": "stream",
          "name": "stdout",
          "text": [
            "Hello Python\n"
          ]
        }
      ],
      "source": [
        "# hello.py\n",
        "print(\"Hello Python\")"
      ]
    },
    {
      "cell_type": "markdown",
      "source": [
        "## 2. Write a Python program to do arithmetical operations addition and division?"
      ],
      "metadata": {
        "id": "Xd_1ZRWtCklh"
      }
    },
    {
      "cell_type": "code",
      "source": [
        "# arithmetic.py\n",
        "num_1 = 7\n",
        "num_2 = 18\n",
        "\n",
        "sum = num_1 + num_2  # Addition\n",
        "quot = num_2 / num_1 # division\n",
        "\n",
        "print(f\"sum = {sum}, quotient = {quot}\")"
      ],
      "metadata": {
        "colab": {
          "base_uri": "https://localhost:8080/"
        },
        "id": "0BI3bmWVCdS6",
        "outputId": "82a0be8f-82bd-4342-8901-c3a8c352e6ca"
      },
      "execution_count": 2,
      "outputs": [
        {
          "output_type": "stream",
          "name": "stdout",
          "text": [
            "sum = 25, quotient = 2.5714285714285716\n"
          ]
        }
      ]
    },
    {
      "cell_type": "markdown",
      "source": [
        "## 3. Write a Python program to find the area of a triangle?\n",
        "\n",
        "Area of triangle = $\\frac 1 2 * height * base$\n",
        "\n",
        "we need height, and base as input, and area as output"
      ],
      "metadata": {
        "id": "1M9N4o8dC9Nv"
      }
    },
    {
      "cell_type": "code",
      "source": [
        "# triangle.py\n",
        "height = int(input(\"Enter the Height of Triangle: \"))\n",
        "base = int(input(\"Enter the Base of Triangle: \"))\n",
        "\n",
        "area = 0.5 * height * base\n",
        "\n",
        "print(f\"Area = {area} sq. units\")"
      ],
      "metadata": {
        "colab": {
          "base_uri": "https://localhost:8080/"
        },
        "id": "etnocKfjC5ZJ",
        "outputId": "4db27b19-aeeb-4d08-ebf1-91c5564a6d85"
      },
      "execution_count": 4,
      "outputs": [
        {
          "output_type": "stream",
          "name": "stdout",
          "text": [
            "Enter the Height of Triangle: 10\n",
            "Enter the Base of Triangle: 5\n",
            "Area = 25.0 sq. units\n"
          ]
        }
      ]
    },
    {
      "cell_type": "markdown",
      "source": [
        "## 4. Write a Python program to swap two variables?\n",
        "\n",
        "To swap the variables we can create a temporary variable to store value and perform assignment, or we can use multiple assignment in python to do it in one line.\n",
        "The below code uses multiple assignments to do the swap"
      ],
      "metadata": {
        "id": "MSOA5E3vGcsg"
      }
    },
    {
      "cell_type": "code",
      "source": [
        "a = input(\"Enter value for variable A: \")\n",
        "b = input(\"Enter value for variable B: \")\n",
        "\n",
        "print(f\"Before Swap\\na = {a}, b = {b}\")\n",
        "a, b = b, a\n",
        "print(f\"After Swap\\na = {a}, b = {b}\")"
      ],
      "metadata": {
        "colab": {
          "base_uri": "https://localhost:8080/"
        },
        "id": "Qhn9WiUGGb8G",
        "outputId": "9cb76b4f-0a0f-4a20-b397-cad7bb4a6ff4"
      },
      "execution_count": 5,
      "outputs": [
        {
          "output_type": "stream",
          "name": "stdout",
          "text": [
            "Enter value for variable A: hello\n",
            "Enter value for variable B: world\n",
            "Before Swap\n",
            "a = hello, b = world\n",
            "After Swap\n",
            "a = world, b = hello\n"
          ]
        }
      ]
    },
    {
      "cell_type": "markdown",
      "source": [
        "## 5. Write a Python program to generate a random number?\n",
        "\n",
        "To generate a random number we can use the built-in random package"
      ],
      "metadata": {
        "id": "xpS8plLXHE73"
      }
    },
    {
      "cell_type": "code",
      "source": [
        "import random\n",
        "\n",
        "random_number = random.randint(-100, 100)  # Random Number between -100 & 100, including -100 & 100\n",
        "\n",
        "print(random_number)"
      ],
      "metadata": {
        "colab": {
          "base_uri": "https://localhost:8080/"
        },
        "id": "G89MvajPEY3w",
        "outputId": "6fc9d4ef-b7de-4c23-9187-76a025ff74dd"
      },
      "execution_count": 7,
      "outputs": [
        {
          "output_type": "stream",
          "name": "stdout",
          "text": [
            "62\n"
          ]
        }
      ]
    },
    {
      "cell_type": "markdown",
      "source": [
        "# Thank you!\n",
        "Completed On: **8th October 2022**"
      ],
      "metadata": {
        "id": "ybsm2mA5HVZ-"
      }
    }
  ]
}