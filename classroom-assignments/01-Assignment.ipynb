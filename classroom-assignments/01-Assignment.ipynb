{
 "cells": [
  {
   "cell_type": "markdown",
   "metadata": {},
   "source": [
    "# | Assignment 01 \n",
    "#### Full Stack Data Science Bootcamp 2.0 - iNeuron\n",
    "\n",
    "Date - 25th Sept. 2022"
   ]
  },
  {
   "cell_type": "markdown",
   "metadata": {},
   "source": [
    "### 1. Find out all the types of error that we have encountered in our lecture and why? also include the examples"
   ]
  },
  {
   "cell_type": "markdown",
   "metadata": {},
   "source": [
    "Errors we have encountered are -\n",
    "* `SyntaxError` - Occurs when the syntax is not correct\n",
    "* `NameError` - Occurs when an undefined identifier (i.e. variable name) is used\n",
    "* `TypeError` - Occurs when there is a mismatch in the data type of variables\n",
    "* `ValueError` - Occurs when an invalid value is provided\n",
    "\n",
    "Examples:"
   ]
  },
  {
   "cell_type": "code",
   "execution_count": 7,
   "metadata": {},
   "outputs": [
    {
     "ename": "SyntaxError",
     "evalue": "invalid decimal literal (826317802.py, line 2)",
     "output_type": "error",
     "traceback": [
      "\u001b[0;36m  Cell \u001b[0;32mIn [7], line 2\u001b[0;36m\u001b[0m\n\u001b[0;31m    7teen = \"invalid variable name\"\u001b[0m\n\u001b[0m    ^\u001b[0m\n\u001b[0;31mSyntaxError\u001b[0m\u001b[0;31m:\u001b[0m invalid decimal literal\n"
     ]
    }
   ],
   "source": [
    "# SyntaxError\n",
    "7teen = \"invalid variable name\""
   ]
  },
  {
   "cell_type": "code",
   "execution_count": 8,
   "metadata": {},
   "outputs": [
    {
     "ename": "NameError",
     "evalue": "name 'UndefinedVariableName' is not defined",
     "output_type": "error",
     "traceback": [
      "\u001b[0;31m---------------------------------------------------------------------------\u001b[0m",
      "\u001b[0;31mNameError\u001b[0m                                 Traceback (most recent call last)",
      "Cell \u001b[0;32mIn [8], line 2\u001b[0m\n\u001b[1;32m      1\u001b[0m \u001b[38;5;66;03m# NameError\u001b[39;00m\n\u001b[0;32m----> 2\u001b[0m \u001b[43mUndefinedVariableName\u001b[49m \u001b[38;5;241m+\u001b[39m \u001b[38;5;241m7\u001b[39m\n",
      "\u001b[0;31mNameError\u001b[0m: name 'UndefinedVariableName' is not defined"
     ]
    }
   ],
   "source": [
    "# NameError\n",
    "UndefinedVariableName + 7"
   ]
  },
  {
   "cell_type": "code",
   "execution_count": 9,
   "metadata": {},
   "outputs": [
    {
     "ename": "TypeError",
     "evalue": "can only concatenate str (not \"int\") to str",
     "output_type": "error",
     "traceback": [
      "\u001b[0;31m---------------------------------------------------------------------------\u001b[0m",
      "\u001b[0;31mTypeError\u001b[0m                                 Traceback (most recent call last)",
      "Cell \u001b[0;32mIn [9], line 2\u001b[0m\n\u001b[1;32m      1\u001b[0m \u001b[38;5;66;03m# TypeError\u001b[39;00m\n\u001b[0;32m----> 2\u001b[0m \u001b[38;5;124;43m\"\u001b[39;49m\u001b[38;5;124;43mConcatinating not supported types\u001b[39;49m\u001b[38;5;124;43m\"\u001b[39;49m\u001b[43m \u001b[49m\u001b[38;5;241;43m+\u001b[39;49m\u001b[43m \u001b[49m\u001b[38;5;241;43m18\u001b[39;49m\n",
      "\u001b[0;31mTypeError\u001b[0m: can only concatenate str (not \"int\") to str"
     ]
    }
   ],
   "source": [
    "# TypeError\n",
    "\"Concatinating not supported types\" + 18"
   ]
  },
  {
   "cell_type": "code",
   "execution_count": 12,
   "metadata": {},
   "outputs": [
    {
     "ename": "ValueError",
     "evalue": "could not convert string to float: 'my string'",
     "output_type": "error",
     "traceback": [
      "\u001b[0;31m---------------------------------------------------------------------------\u001b[0m",
      "\u001b[0;31mValueError\u001b[0m                                Traceback (most recent call last)",
      "Cell \u001b[0;32mIn [12], line 2\u001b[0m\n\u001b[1;32m      1\u001b[0m \u001b[38;5;66;03m# ValueError\u001b[39;00m\n\u001b[0;32m----> 2\u001b[0m \u001b[38;5;28;43mfloat\u001b[39;49m\u001b[43m(\u001b[49m\u001b[38;5;124;43m\"\u001b[39;49m\u001b[38;5;124;43mmy string\u001b[39;49m\u001b[38;5;124;43m\"\u001b[39;49m\u001b[43m)\u001b[49m\n",
      "\u001b[0;31mValueError\u001b[0m: could not convert string to float: 'my string'"
     ]
    }
   ],
   "source": [
    "# ValueError\n",
    "float(\"my string\")"
   ]
  },
  {
   "cell_type": "markdown",
   "metadata": {},
   "source": [
    "### 2. Take input A and B and print their sum, mul, div, square of the nos."
   ]
  },
  {
   "cell_type": "code",
   "execution_count": null,
   "metadata": {},
   "outputs": [],
   "source": [
    "A = int(input(\"Enter A: \"))  # 20\n",
    "B = int(input(\"Enter B: \"))  # 30\n",
    "\n",
    "sum_ = A + B\n",
    "diff = A - B\n",
    "prod = A * B\n",
    "quot = A / B\n",
    "\n",
    "sq_a = A**2\n",
    "sq_b = B**2\n",
    "\n",
    "print(f\"\"\"\n",
    "SUM = {sum_}\n",
    "DIFFERENCE = {diff}\n",
    "PRODUCT = {prod}\n",
    "QUOTIENT = {quotient}\n",
    "\n",
    "A^2 = {sq_a}\n",
    "B^2 = {sq_b}\n",
    "\"\"\")"
   ]
  },
  {
   "cell_type": "markdown",
   "metadata": {},
   "source": [
    "### 3. How many reserve keywords are there in python and why we should not use them as a variable name."
   ]
  },
  {
   "cell_type": "markdown",
   "metadata": {},
   "source": [
    "Ther are 33 reserved keywords in python\n",
    "\n",
    "those keywords are:\n",
    "| . | . | . | . |\n",
    "| --- | --- | --- | --- |\n",
    "| False\t| def\t| if\t| raise |\n",
    "| None\t| del\t| import\t| return |\n",
    "| True\t| elif\t| in\t| try |\n",
    "| and\t| else\t| is\t| while |\n",
    "| as\t| except\t| lambda\t| with |\n",
    "| assert\t| finally\t| nonlocal\t| yield |\n",
    "| break\t| for\t| not\t |\n",
    "| class\t| from\t| or\t |\n",
    "| continue\t| global\t| pass |\n",
    "\n",
    "We should not use them as a variable name because -\n",
    "1. It will change their default behaviour, causing our program to behave differently, for example\n",
    "    ```py\n",
    "    print = 7\n",
    "    print(7)\n",
    "    ```\n",
    "    the above snippet will give a `TypeError`\n",
    "2. When assigning to a reserved keyword, we get a `SyntaxError`"
   ]
  },
  {
   "cell_type": "code",
   "execution_count": 1,
   "metadata": {},
   "outputs": [
    {
     "ename": "SyntaxError",
     "evalue": "invalid syntax (1601071751.py, line 1)",
     "output_type": "error",
     "traceback": [
      "\u001b[0;36m  Cell \u001b[0;32mIn [1], line 1\u001b[0;36m\u001b[0m\n\u001b[0;31m    pass = 17\u001b[0m\n\u001b[0m         ^\u001b[0m\n\u001b[0;31mSyntaxError\u001b[0m\u001b[0;31m:\u001b[0m invalid syntax\n"
     ]
    }
   ],
   "source": [
    "pass = 17"
   ]
  },
  {
   "cell_type": "markdown",
   "metadata": {},
   "source": [
    "### 4. Create email ids with the user inputs. in the following format - `lastname.firstname@gmail.com`"
   ]
  },
  {
   "cell_type": "code",
   "execution_count": 2,
   "metadata": {},
   "outputs": [
    {
     "name": "stdout",
     "output_type": "stream",
     "text": [
      "Email: pawar.yash@gmail.com\n"
     ]
    }
   ],
   "source": [
    "fname = input(\"Enter firstname: \")  # yash\n",
    "lname = input(\"Enter lastname: \")  # pawar\n",
    "\n",
    "email = f\"{lname}.{fname}@gmail.com\"\n",
    "print(\"Email:\", email)"
   ]
  },
  {
   "cell_type": "markdown",
   "metadata": {},
   "source": [
    "### 5. Try to print the following lines -\n",
    "- Hi I'm Sunny\n",
    "- My address is 22\\3\n",
    "- I earn 20$ daily."
   ]
  },
  {
   "cell_type": "code",
   "execution_count": 3,
   "metadata": {},
   "outputs": [
    {
     "name": "stdout",
     "output_type": "stream",
     "text": [
      "Hi I'm Sunny\n",
      "My address is 22\\3\n",
      "I earn 20$ daily.\n"
     ]
    }
   ],
   "source": [
    "print('Hi I\\'m Sunny')\n",
    "print('My address is 22\\\\3')\n",
    "print('I earn 20$ daily.')"
   ]
  },
  {
   "cell_type": "markdown",
   "metadata": {},
   "source": [
    "### 6. Take user input (name, address, date of birth etc) to fill a form for your college and print their email IDs"
   ]
  },
  {
   "cell_type": "code",
   "execution_count": 6,
   "metadata": {},
   "outputs": [
    {
     "name": "stdout",
     "output_type": "stream",
     "text": [
      "Your College Email id will be: pawar.594yash@ineuron.ai\n"
     ]
    }
   ],
   "source": [
    "fname = input(\"Enter your first name: \")\n",
    "lname = input(\"Enter your last name: \")\n",
    "address = input(\"Enter Your address\")\n",
    "month = int(input(\"Enter birth month: \"))\n",
    "day = int(input(\"Enter birth day: \"))\n",
    "contact_no = input(\"Enter your contact number: \")\n",
    "\n",
    "email = f\"{lname}.{day}{contact_no[:2]}{fname}@ineuron.ai\"\n",
    "print(\"Your College Email id will be:\", email)"
   ]
  },
  {
   "cell_type": "markdown",
   "metadata": {},
   "source": [
    "### 7. Convert the following -\n",
    "- \"22.4\" into integer\n",
    "- \"22\" into complex no."
   ]
  },
  {
   "cell_type": "code",
   "execution_count": 4,
   "metadata": {},
   "outputs": [
    {
     "data": {
      "text/plain": [
       "22"
      ]
     },
     "execution_count": 4,
     "metadata": {},
     "output_type": "execute_result"
    }
   ],
   "source": [
    "# task to convert string consisting float to integer\n",
    "to_convert = \"22.4\"\n",
    "integer_version = int(float(to_convert))\n",
    "integer_version  # display"
   ]
  },
  {
   "cell_type": "code",
   "execution_count": 5,
   "metadata": {},
   "outputs": [
    {
     "data": {
      "text/plain": [
       "(22+0j)"
      ]
     },
     "execution_count": 5,
     "metadata": {},
     "output_type": "execute_result"
    }
   ],
   "source": [
    "# task to convert string to complex number\n",
    "to_convert = \"22\"\n",
    "complex_version = complex(to_convert)\n",
    "complex_version  # display"
   ]
  },
  {
   "cell_type": "markdown",
   "metadata": {},
   "source": []
  }
 ],
 "metadata": {
  "kernelspec": {
   "display_name": "Python 3.10.4 (conda)",
   "language": "python",
   "name": "python3"
  },
  "language_info": {
   "codemirror_mode": {
    "name": "ipython",
    "version": 3
   },
   "file_extension": ".py",
   "mimetype": "text/x-python",
   "name": "python",
   "nbconvert_exporter": "python",
   "pygments_lexer": "ipython3",
   "version": "3.10.4"
  },
  "orig_nbformat": 4,
  "vscode": {
   "interpreter": {
    "hash": "ef2add68fbb4e9f8f6f5590efab4d05f02356d55e401e1caf0f4e07f42f43803"
   }
  }
 },
 "nbformat": 4,
 "nbformat_minor": 2
}
